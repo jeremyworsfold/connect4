{
 "cells": [
  {
   "cell_type": "code",
   "execution_count": 250,
   "metadata": {},
   "outputs": [],
   "source": [
    "import numpy as np\n",
    "\n",
    "from connect4.board import Piece, Board\n",
    "\n",
    "grid = np.full((6, 7), Piece(' '), dtype=Piece)\n",
    "\n",
    "def add_piece(grid, row, col, piece: Piece) -> None:\n",
    "    grid[row,col] = piece\n",
    "\n",
    "piece = Piece('Y')"
   ]
  },
  {
   "cell_type": "code",
   "execution_count": 12,
   "metadata": {},
   "outputs": [
    {
     "name": "stdout",
     "output_type": "stream",
     "text": [
      "741 ns ± 57.8 ns per loop (mean ± std. dev. of 7 runs, 1000000 loops each)\n"
     ]
    }
   ],
   "source": [
    "%%timeit\n",
    "add_piece(grid, 3, 4, piece)"
   ]
  },
  {
   "cell_type": "code",
   "execution_count": 16,
   "metadata": {},
   "outputs": [],
   "source": [
    "from enum import Enum, auto\n",
    "\n",
    "class Piece2(Enum):\n",
    "    EMPTY = auto()\n",
    "    RED = auto()\n",
    "    YELLOW = auto()\n",
    "\n",
    "grid = np.full((6, 7), Piece2(Piece2.EMPTY), dtype=Piece)\n",
    "\n",
    "def add_piece(grid, row, col, piece: Piece2) -> None:\n",
    "    grid[row,col] = piece\n",
    "\n",
    "piece = Piece2(Piece2.RED)"
   ]
  },
  {
   "cell_type": "code",
   "execution_count": 17,
   "metadata": {},
   "outputs": [
    {
     "name": "stdout",
     "output_type": "stream",
     "text": [
      "624 ns ± 76.2 ns per loop (mean ± std. dev. of 7 runs, 1000000 loops each)\n"
     ]
    }
   ],
   "source": [
    "%%timeit\n",
    "add_piece(grid, 3, 4, piece)"
   ]
  },
  {
   "cell_type": "code",
   "execution_count": 247,
   "metadata": {},
   "outputs": [],
   "source": [
    "def _is_diagonal_winner(pos, player_pieces: np.ndarray) -> bool:\n",
    "        \"\"\"Checks if player_pieces contains a vertical or horizontal win.\"\"\"\n",
    "        r, c  = pos\n",
    "        L = 4\n",
    "        C, R = 7-1, 6-1\n",
    "        topleft = min(r,c)\n",
    "        bottomright = min(R-r,C-c)\n",
    "        topright = min(r,C-c)\n",
    "        bottomleft = min(R-r,c)\n",
    "        rng1 = range(max(0,L-bottomright-1),min(L-1,topleft)+1)\n",
    "        rng2 = range(max(0,L-topright-1),min(L-1,bottomleft)+1)\n",
    "        for i in rng1:\n",
    "            print([(r - i + x, c - i + x) for x in range(L)])\n",
    "            if all(player_pieces[r + i + x -1][c + i + x -1] for x in range(L)):\n",
    "                    return True\n",
    "        print(rng2)\n",
    "        for i in rng2:\n",
    "            print([(r + i - x, c - i + x) for x in range(L)])\n",
    "            #if all(player_pieces[r - i - x -1][c + i + x -1] for x in range(L)):\n",
    "            #        return True"
   ]
  },
  {
   "cell_type": "code",
   "execution_count": 248,
   "metadata": {},
   "outputs": [
    {
     "name": "stdout",
     "output_type": "stream",
     "text": [
      "3 2 3 2\n",
      "range(1, 4)\n",
      "[(2, 2), (3, 3), (4, 4), (5, 5)]\n",
      "[(1, 1), (2, 2), (3, 3), (4, 4)]\n",
      "[(0, 0), (1, 1), (2, 2), (3, 3)]\n",
      "range(0, 3)\n",
      "[(3, 3), (2, 4), (1, 5), (0, 6)]\n",
      "[(4, 2), (3, 3), (2, 4), (1, 5)]\n",
      "[(5, 1), (4, 2), (3, 3), (2, 4)]\n",
      "[[0 0 0 0 0 0 0]\n",
      " [0 0 0 0 0 0 0]\n",
      " [0 0 0 0 0 0 0]\n",
      " [0 0 0 1 0 0 0]\n",
      " [0 0 0 0 0 0 0]\n",
      " [0 0 0 0 0 0 0]]\n"
     ]
    }
   ],
   "source": [
    "b = np.zeros((6,7),dtype=int)\n",
    "\n",
    "pos = (3,3)\n",
    "\n",
    "r, c  = pos\n",
    "#idx = tuple(x-1 for x in pos)\n",
    "#b[idx] = 1\n",
    "b[pos] =1\n",
    "\n",
    "_is_diagonal_winner(pos, b)\n",
    "\n",
    "print(b)"
   ]
  },
  {
   "cell_type": "code",
   "execution_count": 67,
   "metadata": {},
   "outputs": [
    {
     "name": "stdout",
     "output_type": "stream",
     "text": [
      "3 2 2 2\n"
     ]
    },
    {
     "data": {
      "text/plain": [
       "range(-3, -2)"
      ]
     },
     "execution_count": 67,
     "metadata": {},
     "output_type": "execute_result"
    }
   ],
   "source": [
    "L = 4\n",
    "C, R = 7, 6\n",
    "topleft = min(L-1,r,c)\n",
    "bottomright = min(L-1,R-r,C-c)\n",
    "topright = min(L-1,r,C-c)\n",
    "bottomleft = min(L-1,R-r,c)\n",
    "print(topleft,bottomleft,bottomright,topright)\n",
    "range(-topleft, bottomright-L)"
   ]
  },
  {
   "cell_type": "code",
   "execution_count": null,
   "metadata": {},
   "outputs": [],
   "source": [
    "def _is_winner(self, player_pieces:np.ndarray) -> bool:\n",
    "        r, c  = self.last_pos\n",
    "        L = self.four\n",
    "        C, R = self.n_c - 1, self.n_r - 1\n",
    "\n",
    "        # check diagonals first, return if win is found\n",
    "        bottomright = min(R - r, C - c)\n",
    "        topright = min(r, C - c)\n",
    "        for i in range(max(0, L- bottomright - 1), min(L - 1, r, c) + 1):  #  topleft = min(r,c)\n",
    "            if all(player_pieces[r - i + x][c - i + x] for x in range(L)):\n",
    "                    return True\n",
    "\n",
    "        for i in range(max(0, L - topright - 1), min(L - 1, R - r, c) + 1):  #  bottomleft = min(R-r,c)\n",
    "            if all(player_pieces[r + i - x][c - i + x] for x in range(L)):\n",
    "                    return True"
   ]
  },
  {
   "cell_type": "code",
   "execution_count": 251,
   "metadata": {},
   "outputs": [],
   "source": [
    "from collections import namedtuple \n",
    "\n",
    "class BoardOld: \n",
    "    LENGTH = 7 \n",
    "    HEIGHT = 6 \n",
    "    WIN_L = 4 \n",
    " \n",
    "    WinState = namedtuple('WinState', ['is_ended', 'winner']) \n",
    " \n",
    "    def __init__(self) -> None: \n",
    "        self.grid = np.full((self.HEIGHT, self.LENGTH), Piece.EMPTY, dtype=Piece) \n",
    "        self.input_idx = np.zeros(self.LENGTH, dtype=int) \n",
    "        self.last_pos = (0,0) \n",
    " \n",
    "    def add_piece(self, col, piece: Piece) -> None: \n",
    "        if self.input_idx[col] >= self.HEIGHT: \n",
    "            raise ValueError(f\"Can't put piece in column {col}.\") \n",
    "        else: \n",
    "            self.grid[self.input_idx[col],col] = piece \n",
    "            self.last_pos = (self.input_idx[col], col) \n",
    "            self.input_idx[col] += 1 \n",
    " \n",
    "    @property \n",
    "    def valid_moves(self) -> np.ndarray: \n",
    "        return self.input_idx < self.HEIGHT \n",
    " \n",
    "    def _is_straight_winner(self, player_pieces: np.ndarray) -> bool: \n",
    "        \"\"\"Checks if player_pieces contains a vertical or horizontal win.\"\"\" \n",
    "        run_lengths = [player_pieces[:, i:i+self.WIN_L].sum(axis=1) \n",
    "                       for i in range(len(player_pieces) - self.WIN_L + 1)] \n",
    "        return any(x.max() >= self.WIN_L for x in run_lengths) \n",
    "\n",
    "    def _is_diagonal_winner(self, player_pieces: np.ndarray) -> bool: \n",
    "        \"\"\"Checks if player_pieces contains a diagonal win.\"\"\" \n",
    "        L = len(player_pieces) \n",
    "        for i in range(L - self.WIN_L + 1): \n",
    "            for j in range(L - self.WIN_L + 1): \n",
    "                if all(player_pieces[i + x][j + x] for x in range(self.WIN_L)): \n",
    "                    return True \n",
    "            for j in range(self.WIN_L - 1, L): \n",
    "                if all(player_pieces[i + x][j - x] for x in range(self.WIN_L)): \n",
    "                    return True \n",
    "        return False \n",
    " \n",
    "    def get_win_state(self, player:Piece) -> WinState: \n",
    "        player_pieces = self.grid == player \n",
    "        # Check rows & columns for win \n",
    "        if (self._is_straight_winner(player_pieces) or \n",
    "            self._is_straight_winner(player_pieces.T) or \n",
    "            self._is_diagonal_winner(player_pieces)): \n",
    "            return self.WinState(True, player) \n",
    " \n",
    "        # Draw \n",
    "        if not self.valid_moves.any(): \n",
    "            return self.WinState(True, Piece.EMPTY) \n",
    " \n",
    "        # Game is not ended yet. \n",
    "        return self.WinState(False, Piece.EMPTY)"
   ]
  },
  {
   "cell_type": "code",
   "execution_count": 252,
   "metadata": {},
   "outputs": [],
   "source": [
    "from connect4.players import Rand"
   ]
  },
  {
   "cell_type": "code",
   "execution_count": 258,
   "metadata": {},
   "outputs": [
    {
     "name": "stdout",
     "output_type": "stream",
     "text": [
      "2.9 ms ± 302 µs per loop (mean ± std. dev. of 7 runs, 1000 loops each)\n"
     ]
    }
   ],
   "source": [
    "%%timeit -n 1000\n",
    "b = Board()\n",
    "now, prev = 0, 1\n",
    "player = (Rand(Piece('R')), Rand(Piece('Y')))\n",
    "while not b.get_win_state(player[prev].color).is_ended:\n",
    "    column = player[now].get_action(b)\n",
    "    b.add_piece(int(column), player[now].color)\n",
    "    prev = now\n",
    "    now = 1*(1-now)"
   ]
  },
  {
   "cell_type": "code",
   "execution_count": 259,
   "metadata": {},
   "outputs": [
    {
     "name": "stdout",
     "output_type": "stream",
     "text": [
      "3.2 ms ± 288 µs per loop (mean ± std. dev. of 7 runs, 1000 loops each)\n"
     ]
    }
   ],
   "source": [
    "%%timeit -n 1000\n",
    "b = BoardOld()\n",
    "now, prev = 0, 1\n",
    "player = (Rand(Piece('R')), Rand(Piece('Y')))\n",
    "while not b.get_win_state(player[prev].color).is_ended:\n",
    "    column = player[now].get_action(b)\n",
    "    b.add_piece(int(column), player[now].color)\n",
    "    prev = now\n",
    "    now = 1*(1-now)"
   ]
  },
  {
   "cell_type": "code",
   "execution_count": null,
   "metadata": {},
   "outputs": [],
   "source": []
  }
 ],
 "metadata": {
  "interpreter": {
   "hash": "ee44c854a9b80cad61487e373c308766c9a648a8ec0d2e75d2343bb1b568fdcb"
  },
  "kernelspec": {
   "display_name": "Python 3.9.4 64-bit ('activeflows': conda)",
   "language": "python",
   "name": "python3"
  },
  "language_info": {
   "codemirror_mode": {
    "name": "ipython",
    "version": 3
   },
   "file_extension": ".py",
   "mimetype": "text/x-python",
   "name": "python",
   "nbconvert_exporter": "python",
   "pygments_lexer": "ipython3",
   "version": "3.9.4"
  },
  "orig_nbformat": 4
 },
 "nbformat": 4,
 "nbformat_minor": 2
}
