{
 "cells": [
  {
   "cell_type": "code",
   "execution_count": 5,
   "metadata": {},
   "outputs": [
    {
     "name": "stdout",
     "output_type": "stream",
     "text": [
      "data/example.txt :\n",
      "data\n",
      "\n",
      "more data\n"
     ]
    }
   ],
   "source": [
    "import os \n",
    "\n",
    "\n",
    "# open file from sub directory\n",
    "filename = \"data/example.txt\"\n",
    "\n",
    "def print_lines(filename):\n",
    "    with open(filename) as f:\n",
    "        lines = f.readlines()\n",
    "        print(filename,\":\")\n",
    "        for line in lines:\n",
    "            print(line)\n",
    "\n",
    "print_lines(filename)\n"
   ]
  },
  {
   "cell_type": "markdown",
   "metadata": {},
   "source": [
    "Say we want to do this for multiple files but only `txt` files. We have to search through the directory and collect all the files."
   ]
  },
  {
   "cell_type": "code",
   "execution_count": 6,
   "metadata": {},
   "outputs": [
    {
     "name": "stdout",
     "output_type": "stream",
     "text": [
      "data/another.txt :\n",
      "some more data\n",
      "data/example.txt :\n",
      "data\n",
      "\n",
      "more data\n"
     ]
    }
   ],
   "source": [
    "directory = \"data\"\n",
    "if os.path.exists(directory):\n",
    "    # get all txt files\n",
    "    files = [file for file in os.listdir(\"data\") if file.split('.')[1] == \"txt\"]\n",
    "else: \n",
    "    raise FileExistsError\n",
    "\n",
    "for filename in files:\n",
    "    print_lines(f\"{directory}/{filename}\")"
   ]
  },
  {
   "cell_type": "markdown",
   "metadata": {},
   "source": [
    "Will this work on all operating systems? seem cumbersome to get all files and split the strings manually. Also to then have to add the directory name on again to open the file is less than ideal.\n",
    "\n",
    "`pathlib` does the heavy lifting for us. We can get the current file location independent of how the project has been set up or what system we're working on and then append to that with `/` to get to where we need.\n",
    "\n",
    "It also allows us to use wildcards like `.gitignore` files and command line tools."
   ]
  },
  {
   "cell_type": "code",
   "execution_count": 8,
   "metadata": {},
   "outputs": [
    {
     "name": "stdout",
     "output_type": "stream",
     "text": [
      "c:\\Users\\jeremy\\OneDrive - University of Bath\\_Coding-Projects\\connect4\\notes\\data\\another.txt :\n",
      "some more data\n",
      "c:\\Users\\jeremy\\OneDrive - University of Bath\\_Coding-Projects\\connect4\\notes\\data\\example.txt :\n",
      "data\n",
      "\n",
      "more data\n"
     ]
    }
   ],
   "source": [
    "from pathlib import Path\n",
    "\n",
    "directory = Path().cwd() / \"data\"\n",
    "files = directory.glob(\"*.txt\")\n",
    "for filename in files:\n",
    "    print_lines(filename)"
   ]
  },
  {
   "cell_type": "markdown",
   "metadata": {},
   "source": [
    "The file paths themselves may look ugly but it ensures everything will work."
   ]
  },
  {
   "cell_type": "code",
   "execution_count": null,
   "metadata": {},
   "outputs": [],
   "source": []
  }
 ],
 "metadata": {
  "interpreter": {
   "hash": "1897eb243c51f71ad554b8592b819cfa786d1f7f57abb8aeb8fa5603995c3d46"
  },
  "kernelspec": {
   "display_name": "Python 3.10.0",
   "language": "python",
   "name": "python3"
  },
  "language_info": {
   "codemirror_mode": {
    "name": "ipython",
    "version": 3
   },
   "file_extension": ".py",
   "mimetype": "text/x-python",
   "name": "python",
   "nbconvert_exporter": "python",
   "pygments_lexer": "ipython3",
   "version": "3.10.0"
  },
  "orig_nbformat": 4
 },
 "nbformat": 4,
 "nbformat_minor": 2
}
