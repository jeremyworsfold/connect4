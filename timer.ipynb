{
 "cells": [
  {
   "cell_type": "code",
   "execution_count": 11,
   "metadata": {},
   "outputs": [],
   "source": [
    "import numpy as np\n",
    "\n",
    "from connect4.board import Piece\n",
    "\n",
    "grid = np.full((6, 7), Piece(' '), dtype=Piece)\n",
    "\n",
    "def add_piece(grid, row, col, piece: Piece) -> None:\n",
    "    grid[row,col] = piece\n",
    "\n",
    "piece = Piece('Y')"
   ]
  },
  {
   "cell_type": "code",
   "execution_count": 12,
   "metadata": {},
   "outputs": [
    {
     "name": "stdout",
     "output_type": "stream",
     "text": [
      "741 ns ± 57.8 ns per loop (mean ± std. dev. of 7 runs, 1000000 loops each)\n"
     ]
    }
   ],
   "source": [
    "%%timeit\n",
    "add_piece(grid, 3, 4, piece)"
   ]
  },
  {
   "cell_type": "code",
   "execution_count": 16,
   "metadata": {},
   "outputs": [],
   "source": [
    "from enum import Enum, auto\n",
    "\n",
    "class Piece2(Enum):\n",
    "    EMPTY = auto()\n",
    "    RED = auto()\n",
    "    YELLOW = auto()\n",
    "\n",
    "grid = np.full((6, 7), Piece2(Piece2.EMPTY), dtype=Piece)\n",
    "\n",
    "def add_piece(grid, row, col, piece: Piece2) -> None:\n",
    "    grid[row,col] = piece\n",
    "\n",
    "piece = Piece2(Piece2.RED)"
   ]
  },
  {
   "cell_type": "code",
   "execution_count": 17,
   "metadata": {},
   "outputs": [
    {
     "name": "stdout",
     "output_type": "stream",
     "text": [
      "624 ns ± 76.2 ns per loop (mean ± std. dev. of 7 runs, 1000000 loops each)\n"
     ]
    }
   ],
   "source": [
    "%%timeit\n",
    "add_piece(grid, 3, 4, piece)"
   ]
  },
  {
   "cell_type": "code",
   "execution_count": 88,
   "metadata": {},
   "outputs": [],
   "source": [
    "def _is_diagonal_winner(pos, player_pieces: np.ndarray) -> bool:\n",
    "        \"\"\"Checks if player_pieces contains a vertical or horizontal win.\"\"\"\n",
    "        r, c  = pos\n",
    "        L = 4\n",
    "        C, R = 7, 6\n",
    "        topleft = min(r,c)\n",
    "        bottomright = min(R-r,C-c)\n",
    "        topright = min(r,C-c)\n",
    "        bottomleft = min(R-r,c)\n",
    "        for i in range(-min(L,bottomleft),min(0,topright-L)):\n",
    "            print([(r + i + x, c + i + x) for x in range(L)])\n",
    "            #if all(player_pieces[r + i + x -1][c + i + x -1] for x in range(L)):\n",
    "            #        return True\n",
    "        for i in range(-min(L,topleft+1), min(0,bottomright-L+1)):\n",
    "            print([(r + i + x, c - i - x) for x in range(L)])\n",
    "            #if all(player_pieces[r - i - x -1][c + i + x -1] for x in range(L)):\n",
    "            #        return True"
   ]
  },
  {
   "cell_type": "code",
   "execution_count": 89,
   "metadata": {},
   "outputs": [
    {
     "name": "stdout",
     "output_type": "stream",
     "text": [
      "[(-1, 0), (0, 1), (1, 2), (2, 3)]\n",
      "[(1, 4), (2, 3), (3, 2), (4, 1)]\n",
      "[(2, 3), (3, 2), (4, 1), (5, 0)]\n",
      "[[0 0 0 0 0 0 0]\n",
      " [0 0 1 0 0 0 0]\n",
      " [0 0 0 0 0 0 0]\n",
      " [0 0 0 0 0 0 0]\n",
      " [0 0 0 0 0 0 0]\n",
      " [0 0 0 0 0 0 0]]\n"
     ]
    }
   ],
   "source": [
    "b = np.zeros((6,7),dtype=int)\n",
    "\n",
    "pos = (2,3)\n",
    "r, c  = pos\n",
    "idx = tuple(x-1 for x in pos)\n",
    "b[idx] = 1\n",
    "\n",
    "_is_diagonal_winner(pos, b)\n",
    "\n",
    "print(b)"
   ]
  },
  {
   "cell_type": "code",
   "execution_count": 67,
   "metadata": {},
   "outputs": [
    {
     "name": "stdout",
     "output_type": "stream",
     "text": [
      "3 2 2 2\n"
     ]
    },
    {
     "data": {
      "text/plain": [
       "range(-3, -2)"
      ]
     },
     "execution_count": 67,
     "metadata": {},
     "output_type": "execute_result"
    }
   ],
   "source": [
    "L = 4\n",
    "C, R = 7, 6\n",
    "topleft = min(L-1,r,c)\n",
    "bottomright = min(L-1,R-r,C-c)\n",
    "topright = min(L-1,r,C-c)\n",
    "bottomleft = min(L-1,R-r,c)\n",
    "print(topleft,bottomleft,bottomright,topright)\n",
    "range(-topleft, bottomright-L)"
   ]
  }
 ],
 "metadata": {
  "interpreter": {
   "hash": "ee44c854a9b80cad61487e373c308766c9a648a8ec0d2e75d2343bb1b568fdcb"
  },
  "kernelspec": {
   "display_name": "Python 3.9.4 64-bit ('activeflows': conda)",
   "language": "python",
   "name": "python3"
  },
  "language_info": {
   "codemirror_mode": {
    "name": "ipython",
    "version": 3
   },
   "file_extension": ".py",
   "mimetype": "text/x-python",
   "name": "python",
   "nbconvert_exporter": "python",
   "pygments_lexer": "ipython3",
   "version": "3.9.4"
  },
  "orig_nbformat": 4
 },
 "nbformat": 4,
 "nbformat_minor": 2
}
