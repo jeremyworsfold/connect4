{
 "cells": [
  {
   "cell_type": "code",
   "execution_count": 11,
   "metadata": {},
   "outputs": [],
   "source": [
    "import numpy as np\n",
    "\n",
    "from connect4.board import Piece\n",
    "\n",
    "grid = np.full((6, 7), Piece(' '), dtype=Piece)\n",
    "\n",
    "def add_piece(grid, row, col, piece: Piece) -> None:\n",
    "    grid[row,col] = piece\n",
    "\n",
    "piece = Piece('Y')"
   ]
  },
  {
   "cell_type": "code",
   "execution_count": 12,
   "metadata": {},
   "outputs": [
    {
     "name": "stdout",
     "output_type": "stream",
     "text": [
      "741 ns ± 57.8 ns per loop (mean ± std. dev. of 7 runs, 1000000 loops each)\n"
     ]
    }
   ],
   "source": [
    "%%timeit\n",
    "add_piece(grid, 3, 4, piece)"
   ]
  },
  {
   "cell_type": "code",
   "execution_count": 16,
   "metadata": {},
   "outputs": [],
   "source": [
    "from enum import Enum, auto\n",
    "\n",
    "class Piece2(Enum):\n",
    "    EMPTY = auto()\n",
    "    RED = auto()\n",
    "    YELLOW = auto()\n",
    "\n",
    "grid = np.full((6, 7), Piece2(Piece2.EMPTY), dtype=Piece)\n",
    "\n",
    "def add_piece(grid, row, col, piece: Piece2) -> None:\n",
    "    grid[row,col] = piece\n",
    "\n",
    "piece = Piece2(Piece2.RED)"
   ]
  },
  {
   "cell_type": "code",
   "execution_count": 17,
   "metadata": {},
   "outputs": [
    {
     "name": "stdout",
     "output_type": "stream",
     "text": [
      "624 ns ± 76.2 ns per loop (mean ± std. dev. of 7 runs, 1000000 loops each)\n"
     ]
    }
   ],
   "source": [
    "%%timeit\n",
    "add_piece(grid, 3, 4, piece)"
   ]
  },
  {
   "cell_type": "code",
   "execution_count": 247,
   "metadata": {},
   "outputs": [],
   "source": [
    "def _is_diagonal_winner(pos, player_pieces: np.ndarray) -> bool:\n",
    "        \"\"\"Checks if player_pieces contains a vertical or horizontal win.\"\"\"\n",
    "        r, c  = pos\n",
    "        L = 4\n",
    "        C, R = 7-1, 6-1\n",
    "        topleft = min(r,c)\n",
    "        bottomright = min(R-r,C-c)\n",
    "        topright = min(r,C-c)\n",
    "        bottomleft = min(R-r,c)\n",
    "        #topleft = min(r,c)-1\n",
    "        #bottomright = min(R-r,C-c)\n",
    "        #topright = min(r-1,C-c)\n",
    "        #bottomleft = min(R-r,c-1)\n",
    "        print(topleft,bottomright,topright,bottomleft)\n",
    "        #rng1 = range(min(L-1,topleft), max(0,L-bottomright-1)-1,-1)\n",
    "        #rng2 = range(min(L-1,bottomleft), max(0,L-topright-1)-1,-1)\n",
    "        rng1 = range(min(L-1,topleft), max(0,L-bottomright-1)-1,-1)\n",
    "        rng2 = range(min(L-1,bottomleft), max(0,L-topright-1)-1,-1)\n",
    "        rng1 = range(max(0,L-bottomright-1),min(L-1,topleft)+1)\n",
    "        rng2 = range(max(0,L-topright-1),min(L-1,bottomleft)+1)\n",
    "        print(rng1)\n",
    "        for i in rng1:\n",
    "            print([(r - i + x, c - i + x) for x in range(L)])\n",
    "            #if all(player_pieces[r + i + x -1][c + i + x -1] for x in range(L)):\n",
    "            #        return True\n",
    "        print(rng2)\n",
    "        for i in rng2:\n",
    "            print([(r + i - x, c - i + x) for x in range(L)])\n",
    "            #if all(player_pieces[r - i - x -1][c + i + x -1] for x in range(L)):\n",
    "            #        return True"
   ]
  },
  {
   "cell_type": "code",
   "execution_count": 248,
   "metadata": {},
   "outputs": [
    {
     "name": "stdout",
     "output_type": "stream",
     "text": [
      "3 2 3 2\n",
      "range(1, 4)\n",
      "[(2, 2), (3, 3), (4, 4), (5, 5)]\n",
      "[(1, 1), (2, 2), (3, 3), (4, 4)]\n",
      "[(0, 0), (1, 1), (2, 2), (3, 3)]\n",
      "range(0, 3)\n",
      "[(3, 3), (2, 4), (1, 5), (0, 6)]\n",
      "[(4, 2), (3, 3), (2, 4), (1, 5)]\n",
      "[(5, 1), (4, 2), (3, 3), (2, 4)]\n",
      "[[0 0 0 0 0 0 0]\n",
      " [0 0 0 0 0 0 0]\n",
      " [0 0 0 0 0 0 0]\n",
      " [0 0 0 1 0 0 0]\n",
      " [0 0 0 0 0 0 0]\n",
      " [0 0 0 0 0 0 0]]\n"
     ]
    }
   ],
   "source": [
    "b = np.zeros((6,7),dtype=int)\n",
    "\n",
    "pos = (3,3)\n",
    "\n",
    "r, c  = pos\n",
    "#idx = tuple(x-1 for x in pos)\n",
    "#b[idx] = 1\n",
    "b[pos] =1\n",
    "\n",
    "_is_diagonal_winner(pos, b)\n",
    "\n",
    "print(b)"
   ]
  },
  {
   "cell_type": "code",
   "execution_count": 67,
   "metadata": {},
   "outputs": [
    {
     "name": "stdout",
     "output_type": "stream",
     "text": [
      "3 2 2 2\n"
     ]
    },
    {
     "data": {
      "text/plain": [
       "range(-3, -2)"
      ]
     },
     "execution_count": 67,
     "metadata": {},
     "output_type": "execute_result"
    }
   ],
   "source": [
    "L = 4\n",
    "C, R = 7, 6\n",
    "topleft = min(L-1,r,c)\n",
    "bottomright = min(L-1,R-r,C-c)\n",
    "topright = min(L-1,r,C-c)\n",
    "bottomleft = min(L-1,R-r,c)\n",
    "print(topleft,bottomleft,bottomright,topright)\n",
    "range(-topleft, bottomright-L)"
   ]
  }
 ],
 "metadata": {
  "interpreter": {
   "hash": "ee44c854a9b80cad61487e373c308766c9a648a8ec0d2e75d2343bb1b568fdcb"
  },
  "kernelspec": {
   "display_name": "Python 3.9.4 64-bit ('activeflows': conda)",
   "language": "python",
   "name": "python3"
  },
  "language_info": {
   "codemirror_mode": {
    "name": "ipython",
    "version": 3
   },
   "file_extension": ".py",
   "mimetype": "text/x-python",
   "name": "python",
   "nbconvert_exporter": "python",
   "pygments_lexer": "ipython3",
   "version": "3.9.4"
  },
  "orig_nbformat": 4
 },
 "nbformat": 4,
 "nbformat_minor": 2
}
